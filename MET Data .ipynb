{
 "cells": [
  {
   "cell_type": "markdown",
   "id": "7ef9a324-8296-41a8-8332-fef748f91605",
   "metadata": {},
   "source": [
    "### MET Database Cleaning"
   ]
  },
  {
   "cell_type": "code",
   "execution_count": 23,
   "id": "83ab2931-373a-4eca-8541-ef7910e418bb",
   "metadata": {},
   "outputs": [],
   "source": [
    "import pandas as pd\n",
    "import numpy as np\n",
    "from functools import reduce"
   ]
  },
  {
   "cell_type": "code",
   "execution_count": 24,
   "id": "1be1d375-91e9-49c7-a66d-97bfe7de38bf",
   "metadata": {},
   "outputs": [
    {
     "data": {
      "text/plain": [
       "Index(['Object Number', 'Is Highlight', 'Is Timeline Work', 'Is Public Domain',\n",
       "       'Object ID', 'Gallery Number', 'Department', 'AccessionYear',\n",
       "       'Object Name', 'Title', 'Culture', 'Period', 'Dynasty', 'Reign',\n",
       "       'Portfolio', 'Constituent ID', 'Artist Role', 'Artist Prefix',\n",
       "       'Artist Display Name', 'Artist Display Bio', 'Artist Suffix',\n",
       "       'Artist Alpha Sort', 'Artist Nationality', 'Artist Begin Date',\n",
       "       'Artist End Date', 'Artist Gender', 'Artist ULAN URL',\n",
       "       'Artist Wikidata URL', 'Object Date', 'Object Begin Date',\n",
       "       'Object End Date', 'Medium', 'Dimensions', 'Credit Line',\n",
       "       'Geography Type', 'City', 'State', 'County', 'Country', 'Region',\n",
       "       'Subregion', 'Locale', 'Locus', 'Excavation', 'River', 'Classification',\n",
       "       'Rights and Reproduction', 'Link Resource', 'Object Wikidata URL',\n",
       "       'Metadata Date', 'Repository', 'Tags', 'Tags AAT URL',\n",
       "       'Tags Wikidata URL', 'Random'],\n",
       "      dtype='object')"
      ]
     },
     "execution_count": 24,
     "metadata": {},
     "output_type": "execute_result"
    }
   ],
   "source": [
    "og_met_df = pd.read_csv('METsample.csv', on_bad_lines='skip')\n",
    "og_met_df.columns"
   ]
  },
  {
   "cell_type": "code",
   "execution_count": 25,
   "id": "63c215c3-e3ff-492c-85b5-edfc242261d8",
   "metadata": {},
   "outputs": [
    {
     "data": {
      "text/html": [
       "<div>\n",
       "<style scoped>\n",
       "    .dataframe tbody tr th:only-of-type {\n",
       "        vertical-align: middle;\n",
       "    }\n",
       "\n",
       "    .dataframe tbody tr th {\n",
       "        vertical-align: top;\n",
       "    }\n",
       "\n",
       "    .dataframe thead th {\n",
       "        text-align: right;\n",
       "    }\n",
       "</style>\n",
       "<table border=\"1\" class=\"dataframe\">\n",
       "  <thead>\n",
       "    <tr style=\"text-align: right;\">\n",
       "      <th></th>\n",
       "      <th>Title</th>\n",
       "      <th>Department</th>\n",
       "      <th>AccessionYear</th>\n",
       "      <th>Artist Display Name</th>\n",
       "      <th>Artist Nationality</th>\n",
       "      <th>Culture</th>\n",
       "      <th>Country</th>\n",
       "      <th>Region</th>\n",
       "      <th>Subregion</th>\n",
       "      <th>Classification</th>\n",
       "      <th>Tags</th>\n",
       "      <th>Object Wikidata URL</th>\n",
       "    </tr>\n",
       "  </thead>\n",
       "  <tbody>\n",
       "    <tr>\n",
       "      <th>0</th>\n",
       "      <td>Calligraphic Exercise in Spanish</td>\n",
       "      <td>Drawings and Prints</td>\n",
       "      <td>2014.0</td>\n",
       "      <td>Anonymous</td>\n",
       "      <td></td>\n",
       "      <td>NaN</td>\n",
       "      <td>NaN</td>\n",
       "      <td>NaN</td>\n",
       "      <td>NaN</td>\n",
       "      <td>Albums|Drawings|Ornament &amp; Architecture</td>\n",
       "      <td>NaN</td>\n",
       "      <td>NaN</td>\n",
       "    </tr>\n",
       "    <tr>\n",
       "      <th>1</th>\n",
       "      <td>Les Spectacles de Paris, ou, Calendrier histor...</td>\n",
       "      <td>The Libraries</td>\n",
       "      <td>NaN</td>\n",
       "      <td>Joseph de Laporte|Duchesne</td>\n",
       "      <td>|French</td>\n",
       "      <td>NaN</td>\n",
       "      <td>France</td>\n",
       "      <td>NaN</td>\n",
       "      <td>NaN</td>\n",
       "      <td>NaN</td>\n",
       "      <td>NaN</td>\n",
       "      <td>NaN</td>\n",
       "    </tr>\n",
       "    <tr>\n",
       "      <th>2</th>\n",
       "      <td>Set of Sword Fittings (Mitokoromono) with Two ...</td>\n",
       "      <td>Arms and Armor</td>\n",
       "      <td>1945.0</td>\n",
       "      <td>Gotō Jōshin</td>\n",
       "      <td>Japanese</td>\n",
       "      <td>Japanese</td>\n",
       "      <td>NaN</td>\n",
       "      <td>NaN</td>\n",
       "      <td>NaN</td>\n",
       "      <td>Sword Furniture</td>\n",
       "      <td>NaN</td>\n",
       "      <td>https://www.wikidata.org/wiki/Q116250603</td>\n",
       "    </tr>\n",
       "    <tr>\n",
       "      <th>3</th>\n",
       "      <td>Coat</td>\n",
       "      <td>Costume Institute</td>\n",
       "      <td>2005.0</td>\n",
       "      <td>Christian Lacroix|Christian Lacroix|Birger Chr...</td>\n",
       "      <td>French|French|Scandinavian</td>\n",
       "      <td>French</td>\n",
       "      <td>NaN</td>\n",
       "      <td>NaN</td>\n",
       "      <td>NaN</td>\n",
       "      <td>NaN</td>\n",
       "      <td>NaN</td>\n",
       "      <td>NaN</td>\n",
       "    </tr>\n",
       "    <tr>\n",
       "      <th>4</th>\n",
       "      <td>Churinga</td>\n",
       "      <td>Arts of Africa, Oceania, and the Americas</td>\n",
       "      <td>1979.0</td>\n",
       "      <td>NaN</td>\n",
       "      <td>NaN</td>\n",
       "      <td>Mulga Downs Cave</td>\n",
       "      <td>Australia</td>\n",
       "      <td>Western Desert</td>\n",
       "      <td>NaN</td>\n",
       "      <td>Wood-Sculpture</td>\n",
       "      <td>NaN</td>\n",
       "      <td>NaN</td>\n",
       "    </tr>\n",
       "  </tbody>\n",
       "</table>\n",
       "</div>"
      ],
      "text/plain": [
       "                                               Title  \\\n",
       "0                   Calligraphic Exercise in Spanish   \n",
       "1  Les Spectacles de Paris, ou, Calendrier histor...   \n",
       "2  Set of Sword Fittings (Mitokoromono) with Two ...   \n",
       "3                                               Coat   \n",
       "4                                           Churinga   \n",
       "\n",
       "                                  Department  AccessionYear  \\\n",
       "0                        Drawings and Prints         2014.0   \n",
       "1                              The Libraries            NaN   \n",
       "2                             Arms and Armor         1945.0   \n",
       "3                          Costume Institute         2005.0   \n",
       "4  Arts of Africa, Oceania, and the Americas         1979.0   \n",
       "\n",
       "                                 Artist Display Name  \\\n",
       "0                                          Anonymous   \n",
       "1                         Joseph de Laporte|Duchesne   \n",
       "2                                        Gotō Jōshin   \n",
       "3  Christian Lacroix|Christian Lacroix|Birger Chr...   \n",
       "4                                                NaN   \n",
       "\n",
       "           Artist Nationality           Culture    Country          Region  \\\n",
       "0                                           NaN        NaN             NaN   \n",
       "1                     |French               NaN     France             NaN   \n",
       "2                    Japanese          Japanese        NaN             NaN   \n",
       "3  French|French|Scandinavian            French        NaN             NaN   \n",
       "4                         NaN  Mulga Downs Cave  Australia  Western Desert   \n",
       "\n",
       "  Subregion                           Classification Tags  \\\n",
       "0       NaN  Albums|Drawings|Ornament & Architecture  NaN   \n",
       "1       NaN                                      NaN  NaN   \n",
       "2       NaN                          Sword Furniture  NaN   \n",
       "3       NaN                                      NaN  NaN   \n",
       "4       NaN                           Wood-Sculpture  NaN   \n",
       "\n",
       "                        Object Wikidata URL  \n",
       "0                                       NaN  \n",
       "1                                       NaN  \n",
       "2  https://www.wikidata.org/wiki/Q116250603  \n",
       "3                                       NaN  \n",
       "4                                       NaN  "
      ]
     },
     "execution_count": 25,
     "metadata": {},
     "output_type": "execute_result"
    }
   ],
   "source": [
    "met_df = og_met_df[['Title', 'Department', 'AccessionYear', 'Artist Display Name', 'Artist Nationality', 'Culture', 'Country', 'Region', 'Subregion',\n",
    "                    'Classification', 'Tags', 'Object Wikidata URL']]\n",
    "met_df.head()"
   ]
  },
  {
   "cell_type": "code",
   "execution_count": 26,
   "id": "15c05f46-7137-4b1f-b1d8-5157fda3bc93",
   "metadata": {},
   "outputs": [
    {
     "data": {
      "text/plain": [
       "Index(['Title', 'Department', 'AccessionYear', 'Artist Display Name',\n",
       "       'Artist Nationality', 'Culture', 'Country', 'Region', 'Subregion',\n",
       "       'Classification', 'Tags', 'Object Wikidata URL'],\n",
       "      dtype='object')"
      ]
     },
     "execution_count": 26,
     "metadata": {},
     "output_type": "execute_result"
    }
   ],
   "source": [
    "met_df.columns"
   ]
  },
  {
   "cell_type": "code",
   "execution_count": 27,
   "id": "1f76604d-3866-44ee-a150-34da3d09d2c6",
   "metadata": {},
   "outputs": [
    {
     "data": {
      "text/html": [
       "<div>\n",
       "<style scoped>\n",
       "    .dataframe tbody tr th:only-of-type {\n",
       "        vertical-align: middle;\n",
       "    }\n",
       "\n",
       "    .dataframe tbody tr th {\n",
       "        vertical-align: top;\n",
       "    }\n",
       "\n",
       "    .dataframe thead th {\n",
       "        text-align: right;\n",
       "    }\n",
       "</style>\n",
       "<table border=\"1\" class=\"dataframe\">\n",
       "  <thead>\n",
       "    <tr style=\"text-align: right;\">\n",
       "      <th></th>\n",
       "      <th>Title</th>\n",
       "      <th>Department</th>\n",
       "      <th>AccessionYear</th>\n",
       "      <th>Artist Display Name</th>\n",
       "      <th>Artist Nationality</th>\n",
       "      <th>Culture</th>\n",
       "      <th>Country</th>\n",
       "      <th>Region</th>\n",
       "      <th>Subregion</th>\n",
       "      <th>Classification</th>\n",
       "      <th>Tags</th>\n",
       "      <th>Object Wikidata URL</th>\n",
       "      <th>country_combd</th>\n",
       "    </tr>\n",
       "  </thead>\n",
       "  <tbody>\n",
       "    <tr>\n",
       "      <th>0</th>\n",
       "      <td>Calligraphic Exercise in Spanish</td>\n",
       "      <td>Drawings and Prints</td>\n",
       "      <td>2014.0</td>\n",
       "      <td>Anonymous</td>\n",
       "      <td></td>\n",
       "      <td>NaN</td>\n",
       "      <td>NaN</td>\n",
       "      <td>NaN</td>\n",
       "      <td>NaN</td>\n",
       "      <td>Albums|Drawings|Ornament &amp; Architecture</td>\n",
       "      <td>NaN</td>\n",
       "      <td>NaN</td>\n",
       "      <td></td>\n",
       "    </tr>\n",
       "    <tr>\n",
       "      <th>1</th>\n",
       "      <td>Les Spectacles de Paris, ou, Calendrier histor...</td>\n",
       "      <td>The Libraries</td>\n",
       "      <td>NaN</td>\n",
       "      <td>Joseph de Laporte|Duchesne</td>\n",
       "      <td>|French</td>\n",
       "      <td>NaN</td>\n",
       "      <td>France</td>\n",
       "      <td>NaN</td>\n",
       "      <td>NaN</td>\n",
       "      <td>NaN</td>\n",
       "      <td>NaN</td>\n",
       "      <td>NaN</td>\n",
       "      <td>France</td>\n",
       "    </tr>\n",
       "    <tr>\n",
       "      <th>2</th>\n",
       "      <td>Set of Sword Fittings (Mitokoromono) with Two ...</td>\n",
       "      <td>Arms and Armor</td>\n",
       "      <td>1945.0</td>\n",
       "      <td>Gotō Jōshin</td>\n",
       "      <td>Japanese</td>\n",
       "      <td>Japanese</td>\n",
       "      <td>NaN</td>\n",
       "      <td>NaN</td>\n",
       "      <td>NaN</td>\n",
       "      <td>Sword Furniture</td>\n",
       "      <td>NaN</td>\n",
       "      <td>https://www.wikidata.org/wiki/Q116250603</td>\n",
       "      <td>Japanese</td>\n",
       "    </tr>\n",
       "    <tr>\n",
       "      <th>3</th>\n",
       "      <td>Coat</td>\n",
       "      <td>Costume Institute</td>\n",
       "      <td>2005.0</td>\n",
       "      <td>Christian Lacroix|Christian Lacroix|Birger Chr...</td>\n",
       "      <td>French|French|Scandinavian</td>\n",
       "      <td>French</td>\n",
       "      <td>NaN</td>\n",
       "      <td>NaN</td>\n",
       "      <td>NaN</td>\n",
       "      <td>NaN</td>\n",
       "      <td>NaN</td>\n",
       "      <td>NaN</td>\n",
       "      <td>French</td>\n",
       "    </tr>\n",
       "    <tr>\n",
       "      <th>4</th>\n",
       "      <td>Churinga</td>\n",
       "      <td>Arts of Africa, Oceania, and the Americas</td>\n",
       "      <td>1979.0</td>\n",
       "      <td>NaN</td>\n",
       "      <td>NaN</td>\n",
       "      <td>Mulga Downs Cave</td>\n",
       "      <td>Australia</td>\n",
       "      <td>Western Desert</td>\n",
       "      <td>NaN</td>\n",
       "      <td>Wood-Sculpture</td>\n",
       "      <td>NaN</td>\n",
       "      <td>NaN</td>\n",
       "      <td>Australia</td>\n",
       "    </tr>\n",
       "  </tbody>\n",
       "</table>\n",
       "</div>"
      ],
      "text/plain": [
       "                                               Title  \\\n",
       "0                   Calligraphic Exercise in Spanish   \n",
       "1  Les Spectacles de Paris, ou, Calendrier histor...   \n",
       "2  Set of Sword Fittings (Mitokoromono) with Two ...   \n",
       "3                                               Coat   \n",
       "4                                           Churinga   \n",
       "\n",
       "                                  Department  AccessionYear  \\\n",
       "0                        Drawings and Prints         2014.0   \n",
       "1                              The Libraries            NaN   \n",
       "2                             Arms and Armor         1945.0   \n",
       "3                          Costume Institute         2005.0   \n",
       "4  Arts of Africa, Oceania, and the Americas         1979.0   \n",
       "\n",
       "                                 Artist Display Name  \\\n",
       "0                                          Anonymous   \n",
       "1                         Joseph de Laporte|Duchesne   \n",
       "2                                        Gotō Jōshin   \n",
       "3  Christian Lacroix|Christian Lacroix|Birger Chr...   \n",
       "4                                                NaN   \n",
       "\n",
       "           Artist Nationality           Culture    Country          Region  \\\n",
       "0                                           NaN        NaN             NaN   \n",
       "1                     |French               NaN     France             NaN   \n",
       "2                    Japanese          Japanese        NaN             NaN   \n",
       "3  French|French|Scandinavian            French        NaN             NaN   \n",
       "4                         NaN  Mulga Downs Cave  Australia  Western Desert   \n",
       "\n",
       "  Subregion                           Classification Tags  \\\n",
       "0       NaN  Albums|Drawings|Ornament & Architecture  NaN   \n",
       "1       NaN                                      NaN  NaN   \n",
       "2       NaN                          Sword Furniture  NaN   \n",
       "3       NaN                                      NaN  NaN   \n",
       "4       NaN                           Wood-Sculpture  NaN   \n",
       "\n",
       "                        Object Wikidata URL country_combd  \n",
       "0                                       NaN                \n",
       "1                                       NaN        France  \n",
       "2  https://www.wikidata.org/wiki/Q116250603      Japanese  \n",
       "3                                       NaN        French  \n",
       "4                                       NaN     Australia  "
      ]
     },
     "execution_count": 27,
     "metadata": {},
     "output_type": "execute_result"
    }
   ],
   "source": [
    "country_classification_columns = ('Country', 'Culture', 'Artist Nationality', 'Region', 'Subregion', 'Tags')\n",
    "met_df['country_combd'] = reduce(lambda x, y: x.combine_first(met_df[y]), country_classification_columns, met_df[country_classification_columns[0]])\n",
    "met_df.head()                                                       "
   ]
  },
  {
   "cell_type": "code",
   "execution_count": 28,
   "id": "74981ef4-adf8-4e0d-803d-5d5136c32316",
   "metadata": {},
   "outputs": [
    {
     "data": {
      "text/plain": [
       "Title                    8884\n",
       "Department                  0\n",
       "AccessionYear            1219\n",
       "Artist Display Name     62517\n",
       "Artist Nationality      62517\n",
       "Culture                 85752\n",
       "Country                126584\n",
       "Region                 140290\n",
       "Subregion              143162\n",
       "Classification          24330\n",
       "Tags                    90312\n",
       "Object Wikidata URL    128546\n",
       "country_combd            1718\n",
       "dtype: int64"
      ]
     },
     "execution_count": 28,
     "metadata": {},
     "output_type": "execute_result"
    }
   ],
   "source": [
    "met_df.isna().sum()"
   ]
  },
  {
   "cell_type": "code",
   "execution_count": 29,
   "id": "069e67c9-a92f-49f8-9c83-3852502c01ec",
   "metadata": {},
   "outputs": [],
   "source": [
    "country_terms = pd.read_csv('countries.csv')\n",
    "country_terms = country_terms[['name.common', 'name.official', 'capital', 'altSpellings', 'demonyms.eng.m', 'demonyms.eng.f']]\n"
   ]
  },
  {
   "cell_type": "code",
   "execution_count": 30,
   "id": "0a816e66-ce6e-41e4-8a7f-262e8f55305f",
   "metadata": {
    "scrolled": true
   },
   "outputs": [],
   "source": [
    "country_map = {}\n",
    "\n",
    "for _, row in country_terms.iterrows():\n",
    "    official_name = row['name.common']\n",
    "\n",
    "    for col in country_terms.columns:\n",
    "        if col != 'name.common':\n",
    "            country_map[row[col]] = official_name\n"
   ]
  },
  {
   "cell_type": "code",
   "execution_count": 34,
   "id": "ad0fd7a3-1ab0-4489-bc75-d6a3a0d2bd24",
   "metadata": {},
   "outputs": [],
   "source": [
    "met_df['country_combd'] = met_df['country_combd'].str.split(r'[|,]| or').str[0]\n",
    "\n",
    "met_df['country_combd'] = met_df['country_combd'].replace(country_map)\n",
    "\n",
    "met_df['CountryCleaned'] = met_df['country_combd']"
   ]
  },
  {
   "cell_type": "code",
   "execution_count": 37,
   "id": "cd62cd13-d831-4bae-9b14-b079cab5f1ba",
   "metadata": {},
   "outputs": [
    {
     "data": {
      "text/html": [
       "<a href='cleaned_met.csv' target='_blank'>cleaned_met.csv</a><br>"
      ],
      "text/plain": [
       "/home/jovyan/work/cleaned_met.csv"
      ]
     },
     "execution_count": 37,
     "metadata": {},
     "output_type": "execute_result"
    }
   ],
   "source": [
    "from IPython.display import FileLink\n",
    "cleaned_met_csv = 'cleaned_met.csv'\n",
    "met_df.to_csv(cleaned_met_csv)\n",
    "FileLink(cleaned_met_csv)"
   ]
  },
  {
   "cell_type": "code",
   "execution_count": null,
   "id": "9e9aec58-65fc-4b2c-84f6-3363739391cf",
   "metadata": {},
   "outputs": [],
   "source": []
  },
  {
   "cell_type": "code",
   "execution_count": null,
   "id": "50e9548f-1845-4c4e-9d73-b948868ed046",
   "metadata": {},
   "outputs": [],
   "source": []
  }
 ],
 "metadata": {
  "kernelspec": {
   "display_name": "Python 3.10 (ipykernel)",
   "language": "python",
   "name": "python3"
  },
  "language_info": {
   "codemirror_mode": {
    "name": "ipython",
    "version": 3
   },
   "file_extension": ".py",
   "mimetype": "text/x-python",
   "name": "python",
   "nbconvert_exporter": "python",
   "pygments_lexer": "ipython3",
   "version": "3.10.11"
  }
 },
 "nbformat": 4,
 "nbformat_minor": 5
}
