{
 "cells": [
  {
   "cell_type": "markdown",
   "metadata": {
    "vscode": {
     "languageId": "plaintext"
    }
   },
   "source": [
    "### Creating visualizations"
   ]
  },
  {
   "cell_type": "code",
   "execution_count": 1,
   "metadata": {},
   "outputs": [],
   "source": [
    "import altair as alt\n",
    "import pandas as pd"
   ]
  },
  {
   "cell_type": "code",
   "execution_count": 45,
   "metadata": {},
   "outputs": [],
   "source": [
    "aic_data = pd.read_csv('aic_data.csv')"
   ]
  },
  {
   "cell_type": "code",
   "execution_count": 89,
   "metadata": {},
   "outputs": [],
   "source": [
    "vis1 = aic_data.groupby('country').count().reset_index().rename(columns={'id':'Count', 'country': 'Country'})\n",
    "vis1_data = vis1.sort_values(by='Count', ascending=False)[:50]\n",
    "\n",
    "v1 = alt.Chart(vis1_data, title='Number of Art Institute of Chicago Artworks By Country').mark_bar().encode(\n",
    "    x=alt.X('Country:N', sort='-y'),\n",
    "    y=alt.Y('Count:Q').scale(type=\"sqrt\")\n",
    ")\n",
    "\n",
    "v1.save('aic_chart1.png')"
   ]
  },
  {
   "cell_type": "code",
   "execution_count": 90,
   "metadata": {},
   "outputs": [],
   "source": [
    "vis2 = aic_data.groupby('continent').count().reset_index().rename(columns={'id':'Count', 'continent': 'Continent'})\n",
    "vis2_data = vis2.sort_values(by='Count', ascending=False)\n",
    "\n",
    "v2 = alt.Chart(vis2_data, title='Number of Art Institute of Chicago Artworks By Continent').mark_bar().encode(\n",
    "    x=alt.X('Continent:N', sort='-y'),\n",
    "    y=alt.Y('Count:Q').scale(type=\"sqrt\")\n",
    ")\n",
    "\n",
    "v2.save('aic_chart2.png')"
   ]
  },
  {
   "cell_type": "code",
   "execution_count": 91,
   "metadata": {},
   "outputs": [],
   "source": [
    "vis3_data = vis1_data\n",
    "\n",
    "import altair as alt\n",
    "from vega_datasets import data\n",
    "import geopandas as gpd\n",
    "\n",
    "url = \"https://naciscdn.org/naturalearth/110m/cultural/ne_110m_admin_0_countries.zip\"\n",
    "gdf_ne = gpd.read_file(url)  # zipped shapefile\n",
    "gdf_ne = gdf_ne[[\"NAME\", \"CONTINENT\", 'geometry']]\n",
    "gdf_ne = gdf_ne.rename(columns={\"NAME\":\"Country\", \"CONTINENT\":\"Continent\"})\n",
    "gdf_ne = gdf_ne.sort_values('Country')\n",
    "\n",
    "gdf_ne = gdf_ne.replace('United States of America', 'United States')\n",
    "\n",
    "# gdf_ne = pd.read_csv('heat_map_data.csv')\n",
    "\n",
    "vis3_data = pd.merge(gdf_ne, vis2, on=\"Continent\", how='inner')\n",
    "vis3_data\n",
    "\n",
    "\n",
    "\n",
    "v3 = alt.Chart(vis3_data, title=\"Art Institute of Chicago Artworks Count by Continent\").mark_geoshape().encode(\n",
    "    color=alt.Color('Count:Q')\n",
    ")\n",
    "\n",
    "v3.save('aic_chart3.png')"
   ]
  },
  {
   "cell_type": "code",
   "execution_count": null,
   "metadata": {},
   "outputs": [],
   "source": []
  }
 ],
 "metadata": {
  "kernelspec": {
   "display_name": ".venv",
   "language": "python",
   "name": "python3"
  },
  "language_info": {
   "codemirror_mode": {
    "name": "ipython",
    "version": 3
   },
   "file_extension": ".py",
   "mimetype": "text/x-python",
   "name": "python",
   "nbconvert_exporter": "python",
   "pygments_lexer": "ipython3",
   "version": "3.13.0"
  }
 },
 "nbformat": 4,
 "nbformat_minor": 2
}
