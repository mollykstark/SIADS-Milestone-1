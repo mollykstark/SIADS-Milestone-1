{
 "cells": [
  {
   "cell_type": "markdown",
   "metadata": {},
   "source": [
    "# Art Institute of Chicago Data Cleaning"
   ]
  },
  {
   "cell_type": "markdown",
   "metadata": {},
   "source": [
    "Relevant imports:"
   ]
  },
  {
   "cell_type": "code",
   "execution_count": 1,
   "metadata": {},
   "outputs": [],
   "source": [
    "import numpy as np\n",
    "import pandas as pd\n",
    "import json\n",
    "import os\n",
    "import glob\n",
    "from geopy.geocoders import Nominatim\n",
    "from time import sleep\n",
    "from geopy.exc import GeocoderTimedOut\n",
    "import pycountry_convert as pc"
   ]
  },
  {
   "cell_type": "markdown",
   "metadata": {},
   "source": [
    "Loading in the JSON file containing artwork id, title, artist, and department:"
   ]
  },
  {
   "cell_type": "code",
   "execution_count": 3,
   "metadata": {},
   "outputs": [],
   "source": [
    "aic = pd.read_json('../../artic-api-data/getting-started/allArtworks.jsonl', lines=True)"
   ]
  },
  {
   "cell_type": "markdown",
   "metadata": {},
   "source": [
    "Loading in extra JSON files for each artwork containing artwork id and place of origin information:"
   ]
  },
  {
   "cell_type": "code",
   "execution_count": 5,
   "metadata": {},
   "outputs": [
    {
     "data": {
      "text/plain": [
       "[(116936, None, 1982),\n",
       " (57896, 'New York City', None),\n",
       " (127292, 'United States', None),\n",
       " (120557, 'United States', None),\n",
       " (3721, 'Belgium', 1930),\n",
       " (2833, 'Santa Valley', 1957),\n",
       " (143079, 'United States', 1996),\n",
       " (108928, 'Switzerland', None),\n",
       " (49888, 'France', 1928),\n",
       " (98178, 'United States', None)]"
      ]
     },
     "execution_count": 5,
     "metadata": {},
     "output_type": "execute_result"
    }
   ],
   "source": [
    "id_and_origin = []\n",
    "path = '../../artic-api-data/json/artworks'\n",
    "for filename in glob.glob(os.path.join(path, '*.json')):    \n",
    "    with open(filename, encoding='utf-8', mode='r') as currentFile:\n",
    "        data=currentFile.read().replace('\\n', '')\n",
    "        art_id = keyword = json.loads(data)[\"id\"]\n",
    "        place_of_origin = json.loads(data)[\"place_of_origin\"]\n",
    "        acquisition_date = json.loads(data)[\"fiscal_year\"]\n",
    "        id_and_origin.append(tuple((art_id, place_of_origin, acquisition_date)))\n",
    "\n",
    "id_and_origin[:10]"
   ]
  },
  {
   "cell_type": "markdown",
   "metadata": {},
   "source": [
    "Converting the list of tuples created in the previous step to a dataframe that can be merged with the original dataframe I loaded in:"
   ]
  },
  {
   "cell_type": "code",
   "execution_count": 6,
   "metadata": {},
   "outputs": [],
   "source": [
    "id_origin_df = pd.DataFrame(id_and_origin, columns =['id', 'place_of_origin', 'acquisition_date'])\n",
    "aic_and_origin = pd.merge(aic, id_origin_df, on='id')\n",
    "aic_origin_drops = aic_and_origin.dropna(subset=['place_of_origin']).reset_index()"
   ]
  },
  {
   "cell_type": "code",
   "execution_count": 7,
   "metadata": {},
   "outputs": [
    {
     "name": "stdout",
     "output_type": "stream",
     "text": [
      "9492\n"
     ]
    }
   ],
   "source": [
    "# number of unusable rows so far\n",
    "print(len(aic_and_origin) - len(aic_origin_drops))"
   ]
  },
  {
   "cell_type": "markdown",
   "metadata": {},
   "source": [
    "Importing a list of countries, so that naming conventions will be the same across datasets"
   ]
  },
  {
   "cell_type": "code",
   "execution_count": 10,
   "metadata": {},
   "outputs": [],
   "source": [
    "countries_csv = pd.read_csv('../data/interim/CountriesCSV.csv')\n",
    "countries = list(countries_csv['name.common'])"
   ]
  },
  {
   "cell_type": "markdown",
   "metadata": {},
   "source": [
    "Splitting the data into two groups, art whose origin location is already a country, and art whose location data isn't"
   ]
  },
  {
   "cell_type": "code",
   "execution_count": 11,
   "metadata": {},
   "outputs": [],
   "source": [
    "id_and_noncountry = []\n",
    "id_and_country = []\n",
    "\n",
    "for i in range(len(aic_origin_drops)):\n",
    "    if aic_origin_drops['place_of_origin'][i] not in countries:\n",
    "        id_and_noncountry.append((aic_origin_drops['id'][i], aic_origin_drops['place_of_origin'][i]))\n",
    "    else:\n",
    "        id_and_country.append((aic_origin_drops['id'][i], aic_origin_drops['place_of_origin'][i]))\n",
    "\n",
    "cities = [x[1] for x in id_and_noncountry]\n",
    "id_country_df = pd.DataFrame(id_and_country, columns =['id', 'country']).dropna()"
   ]
  },
  {
   "cell_type": "code",
   "execution_count": 12,
   "metadata": {},
   "outputs": [
    {
     "name": "stdout",
     "output_type": "stream",
     "text": [
      "96337\n",
      "0.725516628509459\n"
     ]
    }
   ],
   "source": [
    "# number of rows that do not need modification for use\n",
    "countries_present = [x[1] for x in id_and_country]\n",
    "print(len(countries_present))\n",
    "\n",
    "# percentage of rows that do not need modification for use\n",
    "print(len(countries_present)/len(aic_and_origin))"
   ]
  },
  {
   "cell_type": "markdown",
   "metadata": {},
   "source": [
    "The place of origin information provided in the individual JSON files is a mix of country and city names. Using the geopy package, the following cell converts the place of origin information to an address that contains a country name. The geopy package uses the Nominatim package to look up the provided locations, which has a low limit of the number of requests it can process at a time. To get around this, I created a work-around for a timed out error, which causes the cell to take many hours to run."
   ]
  },
  {
   "cell_type": "code",
   "execution_count": 147,
   "metadata": {},
   "outputs": [],
   "source": [
    "# no longer necessary since it has been downloaded\n",
    "\n",
    "\n",
    "geolocator = Nominatim(user_agent = \"cleaning\")\n",
    "\n",
    "\n",
    "def do_geocode(address, attempt=1, max_attempts=5):\n",
    "    try:\n",
    "        return geolocator.geocode(address, language=\"en\")\n",
    "    except GeocoderTimedOut:\n",
    "        if attempt <= max_attempts:\n",
    "            sleep(1.1)\n",
    "            return do_geocode(address, attempt=attempt+1)\n",
    "        raise\n",
    "\n",
    "\n",
    "region_and_geopy = []\n",
    "for i in range(len(set(cities))):\n",
    "    location = do_geocode(cities[i])\n",
    "    pre_geopy_name = cities[i]\n",
    "    if location is not None:\n",
    "        region_and_geopy.append((pre_geopy_name,location.address))\n",
    "\n",
    "region_geopy_df = pd.DataFrame(region_and_geopy, columns =['noncountry', 'geopy']).dropna()\n",
    "region_geopy_df.to_csv('noncountry_geopy.csv')\n"
   ]
  },
  {
   "cell_type": "markdown",
   "metadata": {},
   "source": [
    "Loading in the downloaded csv that was created using the previous code"
   ]
  },
  {
   "cell_type": "code",
   "execution_count": 13,
   "metadata": {},
   "outputs": [],
   "source": [
    "region_geopy_df = pd.read_csv('../data/interim/noncountry_geopy.csv').drop(labels=['Unnamed: 0'], axis=1)"
   ]
  },
  {
   "cell_type": "markdown",
   "metadata": {},
   "source": [
    "Getting the country name from the geopy location using regex, and combining country, place of origin, and id for easier merging with the main dataframe"
   ]
  },
  {
   "cell_type": "code",
   "execution_count": 14,
   "metadata": {},
   "outputs": [],
   "source": [
    "region_geopy_df['geopy_country'] = region_geopy_df['geopy'].str.extract(\"([^,]*$)\")\n",
    "for i in range(len(region_geopy_df)):\n",
    "    region_geopy_df.loc[i, 'geopy_country'] = region_geopy_df['geopy_country'][i].strip()"
   ]
  },
  {
   "cell_type": "code",
   "execution_count": 15,
   "metadata": {},
   "outputs": [],
   "source": [
    "id_region_df = pd.DataFrame(id_and_noncountry, columns =['id', 'noncountry']).dropna()\n",
    "id_region_geopy = pd.merge(id_region_df, region_geopy_df, on='noncountry', how='inner')\n",
    "id_region_geopy.drop_duplicates(subset=['id'], inplace=True)\n",
    "id_country_geopy = id_region_geopy[['id', 'geopy_country']].rename(columns={'geopy_country': 'country'})"
   ]
  },
  {
   "cell_type": "markdown",
   "metadata": {},
   "source": [
    "Stacking the dataframes of the artwork that did not need the location name modified and the dataframe of the artwork that did, then merging the country information with the main dataframe"
   ]
  },
  {
   "cell_type": "code",
   "execution_count": 16,
   "metadata": {},
   "outputs": [],
   "source": [
    "combined_countries = pd.concat([id_country_df, id_country_geopy], ignore_index=True)"
   ]
  },
  {
   "cell_type": "code",
   "execution_count": 17,
   "metadata": {},
   "outputs": [
    {
     "data": {
      "text/html": [
       "<div>\n",
       "<style scoped>\n",
       "    .dataframe tbody tr th:only-of-type {\n",
       "        vertical-align: middle;\n",
       "    }\n",
       "\n",
       "    .dataframe tbody tr th {\n",
       "        vertical-align: top;\n",
       "    }\n",
       "\n",
       "    .dataframe thead th {\n",
       "        text-align: right;\n",
       "    }\n",
       "</style>\n",
       "<table border=\"1\" class=\"dataframe\">\n",
       "  <thead>\n",
       "    <tr style=\"text-align: right;\">\n",
       "      <th></th>\n",
       "      <th>index</th>\n",
       "      <th>id</th>\n",
       "      <th>title</th>\n",
       "      <th>main_reference_number</th>\n",
       "      <th>department_title</th>\n",
       "      <th>artist_title</th>\n",
       "      <th>place_of_origin</th>\n",
       "      <th>acquisition_date</th>\n",
       "      <th>country</th>\n",
       "    </tr>\n",
       "  </thead>\n",
       "  <tbody>\n",
       "    <tr>\n",
       "      <th>0</th>\n",
       "      <td>0</td>\n",
       "      <td>4</td>\n",
       "      <td>Priest and Boy</td>\n",
       "      <td>1880.1</td>\n",
       "      <td>Prints and Drawings</td>\n",
       "      <td>Lawrence Carmichael Earle</td>\n",
       "      <td>United States</td>\n",
       "      <td>NaN</td>\n",
       "      <td>United States</td>\n",
       "    </tr>\n",
       "    <tr>\n",
       "      <th>1</th>\n",
       "      <td>1</td>\n",
       "      <td>9</td>\n",
       "      <td>Interior of St. Mark's, Venice</td>\n",
       "      <td>1887.232</td>\n",
       "      <td>Arts of the Americas</td>\n",
       "      <td>David Dalhoff Neal</td>\n",
       "      <td>Munich</td>\n",
       "      <td>NaN</td>\n",
       "      <td>Germany</td>\n",
       "    </tr>\n",
       "    <tr>\n",
       "      <th>2</th>\n",
       "      <td>2</td>\n",
       "      <td>11</td>\n",
       "      <td>Self-Portrait</td>\n",
       "      <td>1887.234</td>\n",
       "      <td>Arts of the Americas</td>\n",
       "      <td>Walter Shirlaw</td>\n",
       "      <td>United States</td>\n",
       "      <td>1988.0</td>\n",
       "      <td>United States</td>\n",
       "    </tr>\n",
       "    <tr>\n",
       "      <th>3</th>\n",
       "      <td>3</td>\n",
       "      <td>16</td>\n",
       "      <td>The Fall of the Giants</td>\n",
       "      <td>1887.249</td>\n",
       "      <td>Prints and Drawings</td>\n",
       "      <td>Salvator Rosa</td>\n",
       "      <td>Italy</td>\n",
       "      <td>NaN</td>\n",
       "      <td>Italy</td>\n",
       "    </tr>\n",
       "    <tr>\n",
       "      <th>4</th>\n",
       "      <td>4</td>\n",
       "      <td>19</td>\n",
       "      <td>View of Ponte Lugano on the Anio, from Views o...</td>\n",
       "      <td>1887.252</td>\n",
       "      <td>Prints and Drawings</td>\n",
       "      <td>Giovanni Battista Piranesi</td>\n",
       "      <td>Italy</td>\n",
       "      <td>NaN</td>\n",
       "      <td>Italy</td>\n",
       "    </tr>\n",
       "  </tbody>\n",
       "</table>\n",
       "</div>"
      ],
      "text/plain": [
       "   index  id                                              title  \\\n",
       "0      0   4                                     Priest and Boy   \n",
       "1      1   9                     Interior of St. Mark's, Venice   \n",
       "2      2  11                                      Self-Portrait   \n",
       "3      3  16                             The Fall of the Giants   \n",
       "4      4  19  View of Ponte Lugano on the Anio, from Views o...   \n",
       "\n",
       "  main_reference_number      department_title                artist_title  \\\n",
       "0                1880.1   Prints and Drawings   Lawrence Carmichael Earle   \n",
       "1              1887.232  Arts of the Americas          David Dalhoff Neal   \n",
       "2              1887.234  Arts of the Americas              Walter Shirlaw   \n",
       "3              1887.249   Prints and Drawings               Salvator Rosa   \n",
       "4              1887.252   Prints and Drawings  Giovanni Battista Piranesi   \n",
       "\n",
       "  place_of_origin  acquisition_date        country  \n",
       "0   United States               NaN  United States  \n",
       "1          Munich               NaN        Germany  \n",
       "2   United States            1988.0  United States  \n",
       "3           Italy               NaN          Italy  \n",
       "4           Italy               NaN          Italy  "
      ]
     },
     "execution_count": 17,
     "metadata": {},
     "output_type": "execute_result"
    }
   ],
   "source": [
    "aic_and_country_origin = pd.merge(aic_origin_drops, combined_countries, on='id', how='left')\n",
    "aic_and_country_origin.head()"
   ]
  },
  {
   "cell_type": "markdown",
   "metadata": {},
   "source": [
    "Making sure naming conventions match between datasets, and getting rid of columns that have unusable locations"
   ]
  },
  {
   "cell_type": "code",
   "execution_count": 18,
   "metadata": {},
   "outputs": [
    {
     "name": "stderr",
     "output_type": "stream",
     "text": [
      "/var/folders/cy/f_z2j2b90rl7q8vz6jzfv__00000gn/T/ipykernel_33529/734801247.py:1: FutureWarning: A value is trying to be set on a copy of a DataFrame or Series through chained assignment using an inplace method.\n",
      "The behavior will change in pandas 3.0. This inplace method will never work because the intermediate object on which we are setting values always behaves as a copy.\n",
      "\n",
      "For example, when doing 'df[col].method(value, inplace=True)', try using 'df.method({col: value}, inplace=True)' or df[col] = df[col].method(value) instead, to perform the operation inplace on the original object.\n",
      "\n",
      "\n",
      "  aic_and_country_origin['country'].replace({'Democratic Republic of the Congo':'DR Congo',\n"
     ]
    }
   ],
   "source": [
    "aic_and_country_origin['country'].replace({'Democratic Republic of the Congo':'DR Congo',\n",
    "                                           \"Côte d'Ivoire\": 'Ivory Coast',\n",
    "                                           'Palestinian Territory': 'Palestine',\n",
    "                                           'East Timor': 'Timor-Leste'}, inplace=True)"
   ]
  },
  {
   "cell_type": "code",
   "execution_count": 19,
   "metadata": {},
   "outputs": [],
   "source": [
    "drop_list_origin = ['Unknown Place', 'Roman Empire', 'Bohemia']\n",
    "drop_list_country = ['Europe', 'Africa', 'Asia','North America','Gulf of Mexico','South America']"
   ]
  },
  {
   "cell_type": "code",
   "execution_count": 23,
   "metadata": {},
   "outputs": [],
   "source": [
    "aic_and_country_origin = aic_and_country_origin[~aic_and_country_origin['place_of_origin'].isin(drop_list_origin)]\n",
    "aic_data = aic_and_country_origin[~aic_and_country_origin['country'].isin(drop_list_country)].dropna(subset=['country'])"
   ]
  },
  {
   "cell_type": "code",
   "execution_count": 24,
   "metadata": {},
   "outputs": [
    {
     "name": "stdout",
     "output_type": "stream",
     "text": [
      "12489\n",
      "0.9059449933726955\n"
     ]
    }
   ],
   "source": [
    "# number of unusable rows after all of that cleaning\n",
    "print(len(aic_and_origin) - len(aic_data))\n",
    "\n",
    "# percentage of usable rows after all of that cleaning\n",
    "print(len(aic_data)/len(aic_and_origin))"
   ]
  },
  {
   "cell_type": "markdown",
   "metadata": {},
   "source": [
    "Using a python package, creating tuples for every country and its' corresponding continent to allow for the ability to do a breakdown by general region."
   ]
  },
  {
   "cell_type": "code",
   "execution_count": 25,
   "metadata": {},
   "outputs": [],
   "source": [
    "def country_to_continent(country_name):\n",
    "    try:\n",
    "        country_alpha2 = pc.country_name_to_country_alpha2(country_name)\n",
    "        country_continent_code = pc.country_alpha2_to_continent_code(country_alpha2)\n",
    "        country_continent_name = pc.convert_continent_code_to_continent_name(country_continent_code)\n",
    "        return country_continent_name\n",
    "    except KeyError:\n",
    "        return None"
   ]
  },
  {
   "cell_type": "code",
   "execution_count": 27,
   "metadata": {},
   "outputs": [],
   "source": [
    "country_and_continent = []\n",
    "\n",
    "countries_list = list(set(aic_data['country']))\n",
    "for i in range(len(countries_list)):\n",
    "    if country_to_continent(countries_list[i]) is not None:\n",
    "        country_and_continent.append((countries_list[i],country_to_continent(countries_list[i])))\n",
    "\n",
    "country_and_continent.append(('Timor-Leste', 'Asia'))\n",
    "country_and_continent.append(('DR Congo', 'Africa'))\n",
    "country_and_continent.append(('Tibet', 'Asia'))"
   ]
  },
  {
   "cell_type": "code",
   "execution_count": 28,
   "metadata": {},
   "outputs": [
    {
     "data": {
      "text/html": [
       "<div>\n",
       "<style scoped>\n",
       "    .dataframe tbody tr th:only-of-type {\n",
       "        vertical-align: middle;\n",
       "    }\n",
       "\n",
       "    .dataframe tbody tr th {\n",
       "        vertical-align: top;\n",
       "    }\n",
       "\n",
       "    .dataframe thead th {\n",
       "        text-align: right;\n",
       "    }\n",
       "</style>\n",
       "<table border=\"1\" class=\"dataframe\">\n",
       "  <thead>\n",
       "    <tr style=\"text-align: right;\">\n",
       "      <th></th>\n",
       "      <th>index</th>\n",
       "      <th>id</th>\n",
       "      <th>title</th>\n",
       "      <th>main_reference_number</th>\n",
       "      <th>department_title</th>\n",
       "      <th>artist_title</th>\n",
       "      <th>place_of_origin</th>\n",
       "      <th>acquisition_date</th>\n",
       "      <th>country</th>\n",
       "      <th>continent</th>\n",
       "    </tr>\n",
       "  </thead>\n",
       "  <tbody>\n",
       "    <tr>\n",
       "      <th>0</th>\n",
       "      <td>0</td>\n",
       "      <td>4</td>\n",
       "      <td>Priest and Boy</td>\n",
       "      <td>1880.1</td>\n",
       "      <td>Prints and Drawings</td>\n",
       "      <td>Lawrence Carmichael Earle</td>\n",
       "      <td>United States</td>\n",
       "      <td>NaN</td>\n",
       "      <td>United States</td>\n",
       "      <td>North America</td>\n",
       "    </tr>\n",
       "    <tr>\n",
       "      <th>1</th>\n",
       "      <td>1</td>\n",
       "      <td>9</td>\n",
       "      <td>Interior of St. Mark's, Venice</td>\n",
       "      <td>1887.232</td>\n",
       "      <td>Arts of the Americas</td>\n",
       "      <td>David Dalhoff Neal</td>\n",
       "      <td>Munich</td>\n",
       "      <td>NaN</td>\n",
       "      <td>Germany</td>\n",
       "      <td>Europe</td>\n",
       "    </tr>\n",
       "    <tr>\n",
       "      <th>2</th>\n",
       "      <td>2</td>\n",
       "      <td>11</td>\n",
       "      <td>Self-Portrait</td>\n",
       "      <td>1887.234</td>\n",
       "      <td>Arts of the Americas</td>\n",
       "      <td>Walter Shirlaw</td>\n",
       "      <td>United States</td>\n",
       "      <td>1988.0</td>\n",
       "      <td>United States</td>\n",
       "      <td>North America</td>\n",
       "    </tr>\n",
       "    <tr>\n",
       "      <th>3</th>\n",
       "      <td>3</td>\n",
       "      <td>16</td>\n",
       "      <td>The Fall of the Giants</td>\n",
       "      <td>1887.249</td>\n",
       "      <td>Prints and Drawings</td>\n",
       "      <td>Salvator Rosa</td>\n",
       "      <td>Italy</td>\n",
       "      <td>NaN</td>\n",
       "      <td>Italy</td>\n",
       "      <td>Europe</td>\n",
       "    </tr>\n",
       "    <tr>\n",
       "      <th>4</th>\n",
       "      <td>4</td>\n",
       "      <td>19</td>\n",
       "      <td>View of Ponte Lugano on the Anio, from Views o...</td>\n",
       "      <td>1887.252</td>\n",
       "      <td>Prints and Drawings</td>\n",
       "      <td>Giovanni Battista Piranesi</td>\n",
       "      <td>Italy</td>\n",
       "      <td>NaN</td>\n",
       "      <td>Italy</td>\n",
       "      <td>Europe</td>\n",
       "    </tr>\n",
       "  </tbody>\n",
       "</table>\n",
       "</div>"
      ],
      "text/plain": [
       "   index  id                                              title  \\\n",
       "0      0   4                                     Priest and Boy   \n",
       "1      1   9                     Interior of St. Mark's, Venice   \n",
       "2      2  11                                      Self-Portrait   \n",
       "3      3  16                             The Fall of the Giants   \n",
       "4      4  19  View of Ponte Lugano on the Anio, from Views o...   \n",
       "\n",
       "  main_reference_number      department_title                artist_title  \\\n",
       "0                1880.1   Prints and Drawings   Lawrence Carmichael Earle   \n",
       "1              1887.232  Arts of the Americas          David Dalhoff Neal   \n",
       "2              1887.234  Arts of the Americas              Walter Shirlaw   \n",
       "3              1887.249   Prints and Drawings               Salvator Rosa   \n",
       "4              1887.252   Prints and Drawings  Giovanni Battista Piranesi   \n",
       "\n",
       "  place_of_origin  acquisition_date        country      continent  \n",
       "0   United States               NaN  United States  North America  \n",
       "1          Munich               NaN        Germany         Europe  \n",
       "2   United States            1988.0  United States  North America  \n",
       "3           Italy               NaN          Italy         Europe  \n",
       "4           Italy               NaN          Italy         Europe  "
      ]
     },
     "execution_count": 28,
     "metadata": {},
     "output_type": "execute_result"
    }
   ],
   "source": [
    "country_and_continent_df = pd.DataFrame(country_and_continent, columns =['country', 'continent']).dropna()\n",
    "aic_continent = pd.merge(aic_data, country_and_continent_df, on='country', how='left')\n",
    "aic_continent.head()"
   ]
  },
  {
   "cell_type": "markdown",
   "metadata": {},
   "source": [
    "Finally, saving the clean data"
   ]
  },
  {
   "cell_type": "code",
   "execution_count": 421,
   "metadata": {},
   "outputs": [],
   "source": [
    "aic_continent.to_csv('../data/processed/aic_data.csv')"
   ]
  },
  {
   "cell_type": "markdown",
   "metadata": {},
   "source": [
    "### Bonus: adding continent data to the other dataset"
   ]
  },
  {
   "cell_type": "code",
   "execution_count": 414,
   "metadata": {},
   "outputs": [],
   "source": [
    "met = pd.read_csv('../data/processed/CleanMETData.csv')"
   ]
  },
  {
   "cell_type": "code",
   "execution_count": 392,
   "metadata": {},
   "outputs": [],
   "source": [
    "country_and_continent = []\n",
    "\n",
    "countries_list = list(set(met['MappedCountry'].dropna()))\n",
    "for i in range(len(countries_list)):\n",
    "    if country_to_continent(countries_list[i]) is not None:\n",
    "        country_and_continent.append((countries_list[i],country_to_continent(countries_list[i])))\n",
    "\n",
    "country_and_continent.append(('Timor-Leste', 'Asia'))\n",
    "country_and_continent.append(('DR Congo', 'Africa'))\n",
    "country_and_continent.append(('Tibet', 'Asia'))"
   ]
  },
  {
   "cell_type": "code",
   "execution_count": 394,
   "metadata": {},
   "outputs": [],
   "source": [
    "country_and_continent_df = pd.DataFrame(country_and_continent, columns =['MappedCountry', 'continent']).dropna()\n",
    "met_continent = pd.merge(met, country_and_continent_df, on='MappedCountry', how='left')\n",
    "met_continent.to_csv('../data/processed/CleanMetData_continents.csv')"
   ]
  }
 ],
 "metadata": {
  "kernelspec": {
   "display_name": ".venv",
   "language": "python",
   "name": "python3"
  },
  "language_info": {
   "codemirror_mode": {
    "name": "ipython",
    "version": 3
   },
   "file_extension": ".py",
   "mimetype": "text/x-python",
   "name": "python",
   "nbconvert_exporter": "python",
   "pygments_lexer": "ipython3",
   "version": "3.13.0"
  }
 },
 "nbformat": 4,
 "nbformat_minor": 2
}
