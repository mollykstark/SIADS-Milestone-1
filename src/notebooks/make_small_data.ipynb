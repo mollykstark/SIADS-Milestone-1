{
 "cells": [
  {
   "cell_type": "markdown",
   "metadata": {},
   "source": [
    "# Making Small Data Files\n",
    "## The purpose of this notebook is just to get 100 rows of any csv file that is bigger than 10 MB"
   ]
  },
  {
   "cell_type": "code",
   "execution_count": 1,
   "metadata": {},
   "outputs": [],
   "source": [
    "import pandas as pd"
   ]
  },
  {
   "cell_type": "markdown",
   "metadata": {},
   "source": [
    "### Raw Data"
   ]
  },
  {
   "cell_type": "code",
   "execution_count": 2,
   "metadata": {},
   "outputs": [],
   "source": [
    "aic_raw = pd.read_csv('../data/raw/aic_raw.csv')\n",
    "aic_raw_small = aic_raw.sample(n=100)\n",
    "aic_raw_small.to_csv('../small-data/raw/aic_raw.csv')"
   ]
  },
  {
   "cell_type": "code",
   "execution_count": 3,
   "metadata": {},
   "outputs": [],
   "source": [
    "met_raw = pd.read_csv('../data/raw/met_raw.csv')\n",
    "met_raw_small = met_raw.sample(n=100)\n",
    "met_raw_small.to_csv('../small-data/raw/met_raw.csv')"
   ]
  },
  {
   "cell_type": "markdown",
   "metadata": {},
   "source": [
    "### Processed Data"
   ]
  },
  {
   "cell_type": "code",
   "execution_count": 4,
   "metadata": {},
   "outputs": [],
   "source": [
    "aic_data = pd.read_csv('../data/processed/aic_data.csv')\n",
    "aic_data_small = aic_data.sample(n=100)\n",
    "aic_data_small.to_csv('../small-data/raw/aic_data.csv')"
   ]
  },
  {
   "cell_type": "code",
   "execution_count": 5,
   "metadata": {},
   "outputs": [],
   "source": [
    "met_data = pd.read_csv('../data/processed/met_data.csv')\n",
    "met_data_small = met_data.sample(n=100)\n",
    "met_data_small.to_csv('../small-data/processed/met_data.csv')"
   ]
  },
  {
   "cell_type": "code",
   "execution_count": 6,
   "metadata": {},
   "outputs": [],
   "source": [
    "combined_data = pd.read_csv('../data/processed/combined_data.csv')\n",
    "combined_data_small = combined_data.sample(n=100)\n",
    "combined_data_small.to_csv('../small-data/processed/combined_data.csv')"
   ]
  }
 ],
 "metadata": {
  "kernelspec": {
   "display_name": ".venv",
   "language": "python",
   "name": "python3"
  },
  "language_info": {
   "codemirror_mode": {
    "name": "ipython",
    "version": 3
   },
   "file_extension": ".py",
   "mimetype": "text/x-python",
   "name": "python",
   "nbconvert_exporter": "python",
   "pygments_lexer": "ipython3",
   "version": "3.13.0"
  }
 },
 "nbformat": 4,
 "nbformat_minor": 2
}
